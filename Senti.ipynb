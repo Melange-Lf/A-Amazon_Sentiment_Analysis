{
 "cells": [
  {
   "cell_type": "markdown",
   "id": "f5cabbd5-4f23-4ee9-9c61-cbf8f26a6de8",
   "metadata": {
    "scrolled": true
   },
   "source": [
    "### Necessary imports"
   ]
  },
  {
   "cell_type": "code",
   "execution_count": 1,
   "id": "eed60b61-72c0-4899-92d6-b1453464674a",
   "metadata": {},
   "outputs": [
    {
     "name": "stderr",
     "output_type": "stream",
     "text": [
      "C:\\Users\\hp\\AppData\\Local\\Temp\\ipykernel_12156\\2518021868.py:4: DeprecationWarning: \n",
      "Pyarrow will become a required dependency of pandas in the next major release of pandas (pandas 3.0),\n",
      "(to allow more performant data types, such as the Arrow string type, and better interoperability with other libraries)\n",
      "but was not found to be installed on your system.\n",
      "If this would cause problems for you,\n",
      "please provide us feedback at https://github.com/pandas-dev/pandas/issues/54466\n",
      "        \n",
      "  import pandas as pd\n"
     ]
    }
   ],
   "source": [
    "# Required imports\n",
    "import numpy as np\n",
    "# from tqdm.notebook import tqdm\n",
    "import pandas as pd\n",
    "import re\n",
    "import string\n",
    "import tensorflow as tf\n",
    "from tensorflow.keras import layers\n",
    "from sklearn.model_selection import train_test_split\n",
    "from sklearn.metrics import confusion_matrix\n",
    "import seaborn as sns"
   ]
  },
  {
   "cell_type": "code",
   "execution_count": 2,
   "id": "eb688d71-42cf-42d9-adcb-3d6035cd585a",
   "metadata": {},
   "outputs": [],
   "source": [
    "import nltk\n",
    "# nltk.download('stopwords')\n",
    "# nltk.download('punkt')\n",
    "# nltk.download('wordnet')\n",
    "from nltk.corpus import stopwords\n",
    "from nltk.stem import WordNetLemmatizer\n"
   ]
  },
  {
   "cell_type": "markdown",
   "id": "1cf42b15-3c76-4465-82f3-0a7c906a42c1",
   "metadata": {},
   "source": [
    "### Loading the word embeddings"
   ]
  },
  {
   "cell_type": "code",
   "execution_count": 3,
   "id": "dd193045-0809-4e1c-a883-fee28d1aa402",
   "metadata": {},
   "outputs": [],
   "source": [
    "def load_glove_model(glove_file):\n",
    "    \"\"\"\n",
    "    :param glove_file: embeddings_path: path of glove file.\n",
    "    :return: glove model\n",
    "    \"\"\"\n",
    "\n",
    "    f = open(glove_file + \".txt\", 'r', encoding='utf-8')\n",
    "    model = {}\n",
    "    for line in f:\n",
    "        split_line = line.split()\n",
    "        word = split_line[0]\n",
    "        embedding = np.array([float(val) for val in split_line[1:]])\n",
    "        model[word] = embedding\n",
    "    return model\n",
    "# model.get(word, output_array)\n",
    "# output array of shape (300,) or whichever embedding length you loaded"
   ]
  },
  {
   "cell_type": "code",
   "execution_count": 4,
   "id": "3f0ccbd2-d07c-4004-bb3f-bf22c855045d",
   "metadata": {},
   "outputs": [],
   "source": [
    "vec_source = \"Word_Vec\\glove.42B.300d\\glove.42B.300d\"\n",
    "word_2_vec_dict = load_glove_model(vec_source)"
   ]
  },
  {
   "cell_type": "markdown",
   "id": "6705e528-aee1-4f81-9c24-d85e3df14bf3",
   "metadata": {},
   "source": [
    "### Preprocessing the input data"
   ]
  },
  {
   "cell_type": "code",
   "execution_count": 9,
   "id": "06c7d9af-9581-4b7e-8156-858f0067799d",
   "metadata": {},
   "outputs": [],
   "source": [
    "# train_df = pd.read_csv(\"amazon_review_full_csv/train.csv\")\n",
    "train_df = pd.read_csv(\"amazon_review_full_csv/train.csv\", names=['score', 'brief', 'desc'])\n",
    "\n",
    "test_df = pd.read_csv(\"amazon_review_full_csv/test.csv\")"
   ]
  },
  {
   "cell_type": "code",
   "execution_count": 10,
   "id": "f0e00730-d8ae-432b-b9af-8fa2ad8f7772",
   "metadata": {},
   "outputs": [
    {
     "name": "stdout",
     "output_type": "stream",
     "text": [
      "<class 'pandas.core.frame.DataFrame'>\n",
      "RangeIndex: 50000 entries, 400000 to 449999\n",
      "Data columns (total 3 columns):\n",
      " #   Column  Non-Null Count  Dtype \n",
      "---  ------  --------------  ----- \n",
      " 0   score   50000 non-null  int64 \n",
      " 1   brief   49998 non-null  object\n",
      " 2   desc    50000 non-null  object\n",
      "dtypes: int64(1), object(2)\n",
      "memory usage: 1.1+ MB\n"
     ]
    }
   ],
   "source": [
    "# test_df = test_df.drop(columns= ['brief'])\n",
    "train_df = train_df[400000:450000]\n",
    "train_df.info()"
   ]
  },
  {
   "cell_type": "code",
   "execution_count": 5,
   "id": "3bf6fa90-5b71-4fd0-bd61-d4467b925485",
   "metadata": {},
   "outputs": [],
   "source": [
    "# initializing preprocessing components\n",
    "\n",
    "trans = str.maketrans(\"\", \"\", string.punctuation)\n",
    "# stop_words = set(stopwords.words('english'))\n",
    "lem = WordNetLemmatizer()\n",
    "avg_embd = np.mean(list(word_2_vec_dict.values()), axis=0)"
   ]
  },
  {
   "cell_type": "code",
   "execution_count": 16,
   "id": "8639b74f-fd76-436e-a32a-80abbd964376",
   "metadata": {},
   "outputs": [],
   "source": [
    "# Defining cleaning and embedding convertion functions\n",
    "stop_words = set()\n",
    "\n",
    "def word_2_arr(word):\n",
    "    embd = word_2_vec_dict.get(word)          # gets the embd of words\n",
    "    if type(embd) != np.ndarray:              # checks for unkown words\n",
    "        return avg_embd\n",
    "    return embd\n",
    "\n",
    "def analysis_clean(sentence):\n",
    "    sentence = str(sentence.numpy())[2:-1].translate(trans)                                # Remove punctuation\n",
    "    li = nltk.word_tokenize(sentence)                                                      # toeknize\n",
    "    li = [lem.lemmatize(i.lower()) for i in li if i.lower() not in stop_words] # remove stop_words, lowercase, lemmatize\n",
    "    return li\n",
    "\n",
    "def clean_embd(sentence, score):                                 # takes sentence and ouputs embedding matrix of the sentence\n",
    "    sentence = str(sentence.numpy())[2:-1].translate(trans)                                # Remove punctuation\n",
    "    li = nltk.word_tokenize(sentence)                                                      # toeknize\n",
    "    li = [word_2_arr(lem.lemmatize(i.lower())) for i in li if i.lower() not in stop_words] # remove stop_words, lowercase, lemmatize, to word embedding\n",
    "    return li, score\n",
    "\n",
    "def clean_embd_map_fn(sentence, score):                          # tensorflow map version of the the above function\n",
    "    # sentence, score = line\n",
    "    embd_sentence, score = tf.py_function(\n",
    "        clean_embd, inp=[sentence, score], Tout=(tf.float64, tf.float32),\n",
    "    )\n",
    "    score = tf.cast(score, dtype = tf.int32)\n",
    "    embd_sentence.set_shape([None, 300])\n",
    "    score.set_shape([5,])\n",
    "    return embd_sentence, score"
   ]
  },
  {
   "cell_type": "code",
   "execution_count": 13,
   "id": "41869f12-022b-4ccd-835b-b5f6a2317fbe",
   "metadata": {},
   "outputs": [],
   "source": [
    "# Creating the train and validation datasets\n",
    "\n",
    "labels = tf.one_hot(train_df.score-1, 5)\n",
    "x_train, x_test, y_train, y_test = train_test_split(np.array(train_df.desc), np.array(labels), test_size=0.1, random_state=13)\n",
    "ds_train = tf.data.Dataset.from_tensor_slices((x_train, y_train))\n",
    "ds_val = tf.data.Dataset.from_tensor_slices((x_test, y_test))\n",
    "\n",
    "train_len = ds_train.cardinality()\n",
    "val_len = ds_val.cardinality()"
   ]
  },
  {
   "cell_type": "code",
   "execution_count": 14,
   "id": "e9cfdaf7-0ccc-414b-bbfb-07b86f13e5bd",
   "metadata": {},
   "outputs": [],
   "source": [
    "# Applying preprocssing on the datasets\n",
    "\n",
    "AUTO = tf.data.experimental.AUTOTUNE\n",
    "ds_train = ds_train.map(clean_embd_map_fn, num_parallel_calls=AUTO)\n",
    "# ds_train = ds_train.shuffle()\n",
    "ds_train = ds_train.padded_batch(128, padded_shapes=([None, 300], [5,]))\n",
    "ds_train = ds_train.prefetch(AUTO)\n",
    "\n",
    "ds_val = ds_val.map(clean_embd_map_fn, num_parallel_calls=AUTO)\n",
    "ds_val = ds_val.padded_batch(128, padded_shapes=([None, 300], [5,]))\n",
    "ds_val = ds_val.prefetch(AUTO)"
   ]
  },
  {
   "cell_type": "markdown",
   "id": "480c5e6e-ea66-4fba-8cff-33444b308cf5",
   "metadata": {},
   "source": [
    "### Creating the model"
   ]
  },
  {
   "cell_type": "code",
   "execution_count": 11,
   "id": "c19cebc8-389f-49a9-9c16-d4da48b20b2c",
   "metadata": {},
   "outputs": [],
   "source": [
    "\n",
    "inp = tf.keras.Input(shape = (None, 300))\n",
    "x = layers.Masking(mask_value=0)(inp)\n",
    "x = layers.LSTM(256, return_sequences = True)(x)\n",
    "# x = layers.Dropout(0.3)(x)\n",
    "x = layers.LSTM(256)(x)\n",
    "x = layers.BatchNormalization()(x)\n",
    "x = layers.Dense(128, activation='relu')(x)\n",
    "x = layers.BatchNormalization()(x)\n",
    "x = layers.Dense(128, activation='relu')(x)\n",
    "out = layers.Dense(5)(x)\n",
    "\n",
    "model = tf.keras.Model(inputs=inp, outputs=out)\n",
    "\n",
    "model.compile(\n",
    "    loss=tf.keras.losses.CategoricalCrossentropy(from_logits=True),\n",
    "    optimizer=tf.keras.optimizers.Adam(0.001),\n",
    "    metrics=[\"accuracy\"],\n",
    ")\n",
    "\n"
   ]
  },
  {
   "cell_type": "code",
   "execution_count": 7,
   "id": "3aed7d3e-2396-42a3-93c3-3cfba95782af",
   "metadata": {},
   "outputs": [],
   "source": [
    "model = tf.keras.models.load_model('senti_saved_non_bi')"
   ]
  },
  {
   "cell_type": "code",
   "execution_count": 5,
   "id": "3c2647b8-83e0-4bdf-95c6-6b1771e0390b",
   "metadata": {},
   "outputs": [],
   "source": [
    "# Run this cell twice because of a complication with an wordnet in nltk (will get an error the first time)\n",
    "logs = \"logs_bi\"  \n",
    "tb_call = tf.keras.callbacks.TensorBoard(\n",
    "    log_dir = logs,\n",
    "    histogram_freq = 1,\n",
    "    profile_batch = '300, 320'\n",
    ")\n",
    "\n",
    "model.fit(ds_train, epochs=1, verbose=1, validation_data=ds_val)"
   ]
  },
  {
   "cell_type": "code",
   "execution_count": null,
   "id": "6a9f2fb0-962a-4481-82b2-a4be82773060",
   "metadata": {},
   "outputs": [],
   "source": [
    "# model.save('senti_saved_non_bi')"
   ]
  },
  {
   "cell_type": "markdown",
   "id": "d264c78b-de91-4ba4-b075-8b0f97c23a56",
   "metadata": {},
   "source": [
    "### Model Analysis"
   ]
  },
  {
   "cell_type": "code",
   "execution_count": null,
   "id": "d3c89dfd-3132-40fb-aa9c-d74551b99e8d",
   "metadata": {},
   "outputs": [],
   "source": [
    "pred_df = test_df[10:19]\n",
    "\n",
    "labels = tf.one_hot(pred_df.score-1, 5)\n",
    "ds_pred = tf.data.Dataset.from_tensor_slices((pred_df.desc, labels))\n",
    "pred_len = ds_pred.cardinality()\n",
    "ds_pred = ds_pred.map(clean_embd_map_fn, num_parallel_calls=AUTO)\n",
    "ds_pred = ds_pred.padded_batch(64, padded_shapes=([None, 300], [5,]))\n",
    "# for line, label in ds_pred:\n",
    "#     print(model.predict(line))\n",
    "\n",
    "\n",
    "###############################################\n",
    "array_dim = train_len\n",
    "\n",
    "prediction_matrix = np.zeros((array_dim, 5))\n",
    "def hardmax(batch_output):\n",
    "    for array in batch_output:\n",
    "        maxi = max(array)\n",
    "        for i in range(5):\n",
    "            if array[i] == maxi:\n",
    "                array[i] = 1\n",
    "            else:\n",
    "                array[i] = 0\n",
    "        prediction_matrix[hardmax.it] = array\n",
    "        hardmax.it += 1\n",
    "hardmax.it =0\n",
    "truth = np.zeros((array_dim, 5))\n",
    "\n",
    "it = 0\n",
    "for batch in ds_train:\n",
    "    x, y = batch\n",
    "    hardmax(model.predict(x))\n",
    "    for label in y:\n",
    "        truth[it] = label\n",
    "        it+= 1\n",
    "\n",
    "conf = confusion_matrix(truth.argmax(1), prediction_matrix.argmax(1))\n",
    "sns.heatmap(conf)"
   ]
  },
  {
   "cell_type": "markdown",
   "id": "8fde8cc2-9d83-48fb-9cc7-dd915de0f9fa",
   "metadata": {},
   "source": [
    "### Predictions to custom inputs"
   ]
  },
  {
   "cell_type": "code",
   "execution_count": 30,
   "id": "e623eb6b-ae12-4a71-a9d1-5a631d4e78a7",
   "metadata": {},
   "outputs": [
    {
     "name": "stdout",
     "output_type": "stream",
     "text": [
      "0\n",
      "4\n",
      "2\n",
      "4\n",
      "0\n",
      "2\n"
     ]
    },
    {
     "data": {
      "text/plain": [
       "array(['negative', 'positive', 'neutral', 'positive', 'negative',\n",
       "       'neutral'], dtype=object)"
      ]
     },
     "execution_count": 30,
     "metadata": {},
     "output_type": "execute_result"
    }
   ],
   "source": [
    "def senti_pred(pred_lines):\n",
    "    \n",
    "    # getting the data in the correct input format\n",
    "    pred_df = pd.DataFrame({\n",
    "    'desc':pred_lines,\n",
    "    'score':list(np.ones(len(pred_lines)))\n",
    "    })\n",
    "\n",
    "    labels = tf.one_hot(pred_df.score-1, 5)\n",
    "    ds_pred = tf.data.Dataset.from_tensor_slices((pred_df.desc, labels))\n",
    "    pred_len = ds_pred.cardinality()\n",
    "    ds_pred = ds_pred.map(clean_embd_map_fn, num_parallel_calls=AUTO)\n",
    "    ds_pred = ds_pred.padded_batch(64, padded_shapes=([None, 300], [5,]))\n",
    "\n",
    "    # getting the predictions\n",
    "    it = 0\n",
    "    pred_3 = np.zeros((len(pred_lines),), dtype=\"object\")\n",
    "    \n",
    "    for batch in ds_pred:\n",
    "        x, y = batch\n",
    "        for one_hot_pred in model.predict(x, verbose=0):\n",
    "\n",
    "            extr_dic = {0: \"negative\", 2: \"neutral\", 4:\"positive\"}\n",
    "            \n",
    "            max_score = np.argmax(one_hot_pred)\n",
    "            print(max_score)\n",
    "            if max_score == 1:\n",
    "                pred = extr_dic[np.argmax((one_hot_pred[0], one_hot_pred[2]))*2]\n",
    "            elif max_score == 3:\n",
    "                pred = extr_dic[np.argmax((one_hot_pred[2], one_hot_pred[4]))*2+2]\n",
    "            else:\n",
    "                pred = extr_dic[max_score]\n",
    "\n",
    "            pred_3[it] = pred\n",
    "            it+= 1\n",
    "\n",
    "    return pred_3\n",
    "\n",
    "\n",
    "lines = [\"this is the worst day ever, over 10 people are dead\",\n",
    "         \"I'm having so much fun in the disneyland!\",\n",
    "         \"not too shabby, not too good either\",\n",
    "         \"The world is not cruel and dire\",\n",
    "         \"The world is cruel and dire\",\n",
    "         \"This is ok, I guess\"]\n",
    "\n",
    "senti_pred(lines)"
   ]
  },
  {
   "cell_type": "code",
   "execution_count": 120,
   "id": "2f2e86d9-6eef-4dbc-acc1-f956d805054f",
   "metadata": {},
   "outputs": [
    {
     "data": {
      "text/plain": [
       "<Axes: >"
      ]
     },
     "execution_count": 120,
     "metadata": {},
     "output_type": "execute_result"
    },
    {
     "data": {
      "image/png": "[encoded data removed]",
      "text/plain": [
       "<Figure size 640x480 with 2 Axes>"
      ]
     },
     "metadata": {},
     "output_type": "display_data"
    }
   ],
   "source": []
  },
  {
   "cell_type": "code",
   "execution_count": 84,
   "id": "6421f0e7-44d4-4b1e-a35f-26c9bd234f67",
   "metadata": {},
   "outputs": [
    {
     "data": {
      "text/plain": [
       "<Axes: >"
      ]
     },
     "execution_count": 84,
     "metadata": {},
     "output_type": "execute_result"
    },
    {
     "data": {
      "image/png": "[encoded data removed]",
      "text/plain": [
       "<Figure size 640x480 with 2 Axes>"
      ]
     },
     "metadata": {},
     "output_type": "display_data"
    }
   ],
   "source": [
    "confusion_matrix([[0., 0., 1., 0., 0.],\n",
    "        [0., 0., 1., 0., 0.],\n",
    "        [0., 1., 0., 0., 0.],\n",
    "        [1., 0., 0., 0., 0.],\n",
    "        [0., 0., 0., 1., 0.],\n",
    "        [0., 0., 0., 0., 1.],\n",
    "        [0., 0., 1., 0., 0.],\n",
    "        [0., 1., 0., 0., 0.],\n",
    "        [0., 0., 0., 1., 0.]],\n",
    "        \n",
    "        [[0., 0., 1., 0., 0.],\n",
    "        [0., 0., 1., 0., 0.],\n",
    "        [0., 1., 0., 0., 0.],\n",
    "        [1., 0., 0., 0., 0.],\n",
    "        [0., 0., 0., 0., 1.],\n",
    "        [0., 0., 0., 0., 1.],\n",
    "        [0., 1., 0., 0., 0.],\n",
    "        [1., 0., 0., 0., 0.],\n",
    "        [0., 0., 0., 1., 0.]])\n",
    "# 2, 2, 1, 0, 3, 4, 2, 1, 4 pred\n",
    "# 2, 2, 1, 0, 4, 4, 2, 0, 3 truth\n",
    "\n"
   ]
  },
  {
   "cell_type": "code",
   "execution_count": null,
   "id": "16663e08-f20a-4213-a0c4-a2ef0208614f",
   "metadata": {},
   "outputs": [],
   "source": []
  }
 ],
 "metadata": {
  "kernelspec": {
   "display_name": "Python 3 (ipykernel)",
   "language": "python",
   "name": "python3"
  },
  "language_info": {
   "codemirror_mode": {
    "name": "ipython",
    "version": 3
   },
   "file_extension": ".py",
   "mimetype": "text/x-python",
   "name": "python",
   "nbconvert_exporter": "python",
   "pygments_lexer": "ipython3",
   "version": "3.10.11"
  }
 },
 "nbformat": 4,
 "nbformat_minor": 5
}
